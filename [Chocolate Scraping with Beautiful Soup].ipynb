{
 "cells": [
  {
   "cell_type": "markdown",
   "metadata": {},
   "source": [
    "# Chocolate Scraping with Beautiful Soup"
   ]
  },
  {
   "cell_type": "markdown",
   "metadata": {},
   "source": [
    "After eating chocolate bars your whole life, you've decided to go on a quest to find the greatest chocolate bar in the world.\n",
    "\n",
    "You've found a website that has over 1700 reviews of chocolate bars from all around the world. It's linked below the text for the first task.\n",
    "\n",
    "The data is displayed in a table, instead of in a `csv` or `json`. Thankfully, we have the power of BeautifulSoup that will help us transform this webpage into a DataFrame that we can manipulate and analyze.\n",
    "\n",
    "The rating scale is from 1-5, as described in <a href=\"http://flavorsofcacao.com/review_guide.html\">this review guide</a>. A `1` is \"unpleasant\" chocolate, while a `5` is a bar that transcends \"beyond the ordinary limits\".\n",
    "\n",
    "Some questions we thought about when we found this dataset were:\n",
    " - Where are the best cocao beans grown?\n",
    " - Which countries produce the highest-rated bars?\n",
    " - What's the relationship between cocao solids percentage and rating?\n",
    " \n",
    "Can we find a way to answer these questions, or uncover more questions, using BeautifulSoup and Pandas?"
   ]
  },
  {
   "cell_type": "markdown",
   "metadata": {},
   "source": [
    "## Import libraries"
   ]
  },
  {
   "cell_type": "code",
   "execution_count": 1,
   "metadata": {},
   "outputs": [],
   "source": [
    "from bs4 import BeautifulSoup\n",
    "import requests\n",
    "import pandas as pd\n",
    "import matplotlib.pyplot as plt\n",
    "import numpy as np"
   ]
  },
  {
   "cell_type": "markdown",
   "metadata": {},
   "source": [
    "## Make Some Chocolate Soup"
   ]
  },
  {
   "cell_type": "markdown",
   "metadata": {},
   "source": [
    "1. Explore the webpage displayed in the browser. (https://content.codecademy.com/courses/beautifulsoup/cacao/index.html) What elements could be useful to scrape here? Which elements do we _not_ want to scrape?"
   ]
  },
  {
   "cell_type": "markdown",
   "metadata": {},
   "source": [
    "List of Tags to Include:\n",
    "\n",
    "- classes for:\n",
    "    - **\"Company\"** - company that makes the bar\n",
    "    - **\"Origin\"** - city/province of bean origin\n",
    "    - **\"ReviewDate\"** - year of review\n",
    "    - **\"CocoaPercent\"** - percentage of cocao solids in the bar\n",
    "    - **\"CompanyLocation\"** - country company is located in\n",
    "    - **\"Rating\"** - rating from 1 (worst) to 5 (best)\n",
    "    - **\"BeanType\"** - species of cocao bean\n",
    "    - **\"BroadBeanOrigin\"** - country of bean origin"
   ]
  },
  {
   "cell_type": "markdown",
   "metadata": {},
   "source": [
    "List of Tags to Exclude:\n",
    "\n",
    "- classes for:\n",
    "    - **\"REF\"** - Not sure what this is\n",
    "- any formatting tags"
   ]
  },
  {
   "cell_type": "markdown",
   "metadata": {},
   "source": [
    "2. Let's make a request to this site to get the raw HTML, which we can later turn into a BeautifulSoup object.\n",
    "\n",
    "   The URL is\n",
    "\n",
    "    ```\n",
    "    https://content.codecademy.com/courses/beautifulsoup/cacao/index.html\n",
    "    ```\n",
    "   \n",
    "   You can pass this into the `.get()` method of the `requests` module to get the HTML."
   ]
  },
  {
   "cell_type": "code",
   "execution_count": 2,
   "metadata": {},
   "outputs": [],
   "source": [
    "chocolate_scrape = requests.get('https://content.codecademy.com/courses/beautifulsoup/cacao/index.html')\n",
    "chocolate_content = chocolate_scrape.content"
   ]
  },
  {
   "cell_type": "markdown",
   "metadata": {},
   "source": [
    "3. Create a BeautifulSoup object called `soup` to traverse this HTML.\n",
    "\n",
    "   Use `\"html.parser\"` as the parser, and the content of the response you got from your request as the document."
   ]
  },
  {
   "cell_type": "code",
   "execution_count": 4,
   "metadata": {},
   "outputs": [],
   "source": [
    "soup = BeautifulSoup(chocolate_content, \"html.parser\")"
   ]
  },
  {
   "cell_type": "markdown",
   "metadata": {},
   "source": [
    "4. If you want, print out the `soup` object to explore the HTML.\n",
    "\n",
    "   So many table rows! You're probably very relieved that we don't have to scrape this information by hand."
   ]
  },
  {
   "cell_type": "code",
   "execution_count": 5,
   "metadata": {},
   "outputs": [
    {
     "name": "stdout",
     "output_type": "stream",
     "text": [
      "<!DOCTYPE html>\n",
      "\n",
      "<html lang=\"en\">\n",
      "<head>\n",
      "<meta charset=\"utf-8\"/>\n",
      "<style>\n",
      "         #cacaoTable {\n",
      "         border-collapse: collapse;\n",
      "         border: 2px black solid;\n",
      "         font: 12px sans-serif;\n",
      "         }\n",
      "         #cacaoTable td {\n",
      "         border: 1px black solid;\n",
      "         padding: 5px;\n",
      "         }\n",
      "         #infoContainer {\n",
      "         margin-bottom: 10px;\n",
      "         display: inline-block;\n",
      "         margin-right: 10px;\n",
      "         }\n",
      "         #chocolate {\n",
      "         width: 300px;\n",
      "         }\n",
      "         #picContainer {\n",
      "         display: inline;\n",
      "         }\n",
      "      </style>\n",
      "</head>\n",
      "<body>\n",
      "<!-- <script src=\"http://d3js.org/d3.v3.min.js\"></script> -->\n",
      "<div id=\"banner\">\n",
      "<h1>Cacao Ratings</h1>\n",
      "</div>\n",
      "<div id=\"infoContainer\">\n",
      "<table class=\"infoTable\">\n",
      "<tr>\n",
      "<td>Compiled ratings of over 1700 Chocolate bars</td>\n",
      "</tr>\n",
      "<tr>\n",
      "<td>Ratings are from 1-5</td>\n",
      "</tr>\n",
      "</table>\n",
      "</div>\n",
      "<div id=\"picContainer\">\n",
      "<img id=\"chocolate\" src=\"chocolate.jpg\"/>\n",
      "</div>\n",
      "<table id=\"cacaoTable\">\n",
      "<tr>\n",
      "<td class=\"Company\">Company \n",
      "               (Maker-if known)\n",
      "            </td>\n",
      "<td class=\"Origin\">Specific Bean Origin\n",
      "               or Bar Name\n",
      "            </td>\n",
      "<td class=\"REF\">REF</td>\n",
      "<td class=\"ReviewDate\">Review\n",
      "               Date\n",
      "            </td>\n",
      "<td class=\"CocoaPercent\">Cocoa\n",
      "               Percent\n",
      "            </td>\n",
      "<td class=\"CompanyLocation\">Company\n",
      "               Location\n",
      "            </td>\n",
      "<td class=\"Rating\">Rating</td>\n",
      "<td class=\"BeanType\">Bean\n",
      "               Type\n",
      "            </td>\n",
      "<td class=\"BroadBeanOrigin\">Broad Bean\n",
      "               Origin\n",
      "            </td>\n",
      "</tr>\n",
      "<tr>\n",
      "<td class=\"Company\">A. Morin</td>\n",
      "<td class=\"Origin\">Agua Grande</td>\n",
      "<td class=\"REF\">1876</td>\n",
      "<td class=\"ReviewDate\">2016</td>\n",
      "<td class=\"CocoaPercent\">63%</td>\n",
      "<td class=\"CompanyLocation\">France</td>\n",
      "<td class=\"Rating\">3.75</td>\n",
      "<td class=\"BeanType\"> </td>\n",
      "<td class=\"BroadBeanOrigin\">Sao Tome</td>\n",
      "</tr>\n",
      "<tr>\n",
      "<td class=\"Company\">A. Morin</td>\n",
      "<td class=\"Origin\">Kpime</td>\n",
      "<td class=\"REF\">1676</td>\n",
      "<td class=\"ReviewDate\">2015</td>\n",
      "<td class=\"CocoaPercent\">70%</td>\n",
      "<td class=\"CompanyLocation\">France</td>\n",
      "<td class=\"Rating\">2.75</td>\n",
      "<td class=\"BeanType\"> </td>\n",
      "<td class=\"BroadBeanOrigin\">Togo</td>\n",
      "</tr>\n",
      "<tr>\n",
      "<td class=\"Company\">A. Morin</td>\n",
      "<td class=\"Origin\">Atsane</td>\n",
      "<td class=\"REF\">1676</td>\n",
      "<td class=\"ReviewDate\">2015</td>\n",
      "<td class=\"CocoaPercent\">70%</td>\n",
      "<td class=\"CompanyLocation\">France</td>\n",
      "<td class=\"Rating\">3</td>\n",
      "<td class=\"BeanType\"> </td>\n",
      "<td class=\"BroadBeanOrigin\">Togo</td>\n",
      "</tr>\n",
      "<tr>\n",
      "<td class=\"Company\">A. Morin</td>\n",
      "<td class=\"Origin\">Akata</td>\n",
      "<td class=\"REF\">1680</td>\n",
      "<td class=\"ReviewDate\">2015</td>\n",
      "<td class=\"CocoaPercent\">70%</td>\n",
      "<td class=\"CompanyLocation\">France</td>\n",
      "<td class=\"Rating\">3.5</td>\n",
      "<td class=\"BeanType\"> </td>\n",
      "<td class=\"BroadBeanOrigin\">Togo</td>\n",
      "</tr>\n",
      "</table>\n",
      "<script src=\"https://cdnjs.cloudflare.com/ajax/libs/d3/3.2.8/d3.js\"></script>\n",
      "<script>(function(){var js = \"window['__CF$cv$params']={r:'78a84db25b317e94',m:'jQITaGm.a0qj7aL42Td4CLDqEOD9n2iiy3YimA6sGDQ-1673887337-0-AcixdMdC8TJpnAoqkW1S7RYHlYddAxXURfkCEd2DsXi/1byV8XBWOD23K53GSfZzxdlzSFf8yKpDrnP6J55ECElwYt5NUaSBW/po7DNEPfrY6pVhr37a6IF1zfqy9NiTlPau+3bGBkqOhfX3p651AK7jAdByiEnS/pWkbeClTaPT',s:[0x2bc12c9523,0xd86cff639d],u:'/cdn-cgi/challenge-platform/h/g'};var now=Date.now()/1000,offset=14400,ts=''+(Math.floor(now)-Math.floor(now%offset)),_cpo=document.createElement('script');_cpo.nonce='',_cpo.src='/cdn-cgi/challenge-platform/h/g/scripts/alpha/invisible.js?ts='+ts,document.getElementsByTagName('head')[0].appendChild(_cpo);\";var _0xh = document.createElement('iframe');_0xh.height = 1;_0xh.width = 1;_0xh.style.position = 'absolute';_0xh.style.top = 0;_0xh.style.left = 0;_0xh.style.border = 'none';_0xh.style.visibility = 'hidden';document.body.appendChild(_0xh);function handler() {var _0xi = _0xh.contentDocument || _0xh.contentWindow.document;if (_0xi) {var _0xj = _0xi.createElement('script');_0xj.nonce = '';_0xj.innerHTML = js;_0xi.getElementsByTagName('head')[0].appendChild(_0xj);}}if (document.readyState !== 'loading') {handler();} else if (window.addEventListener) {document.addEventListener('DOMContentLoaded', handler);} else {var prev = document.onreadystatechange || function () {};document.onreadystatechange = function (e) {prev(e);if (document.readyState !== 'loading') {document.onreadystatechange = prev;handler();}};}})();</script></body>\n",
      "</html>\n",
      "\n"
     ]
    }
   ],
   "source": [
    "print(soup)"
   ]
  },
  {
   "cell_type": "markdown",
   "metadata": {},
   "source": [
    "## How are ratings distributed?"
   ]
  },
  {
   "cell_type": "markdown",
   "metadata": {},
   "source": [
    "5. How many terrible chocolate bars are out there? And how many earned a perfect 5? Let's make a histogram of this data.\n",
    "\n",
    "   The first thing to do is to put all of the ratings into a list.\n",
    "   \n",
    "   Use a command on the `soup` object to get all of the tags that contain the ratings."
   ]
  },
  {
   "cell_type": "code",
   "execution_count": 6,
   "metadata": {},
   "outputs": [],
   "source": [
    "rating_tags = soup.find_all(attrs={'class':'Rating'})"
   ]
  },
  {
   "cell_type": "markdown",
   "metadata": {},
   "source": [
    "6. Create an empty list called `ratings` to store all the ratings in."
   ]
  },
  {
   "cell_type": "code",
   "execution_count": 7,
   "metadata": {},
   "outputs": [],
   "source": [
    "ratings = []"
   ]
  },
  {
   "cell_type": "markdown",
   "metadata": {},
   "source": [
    "7. Loop through the ratings tags and get the text contained in each one. Add it to the ratings list.\n",
    "\n",
    "   As you do this, convert the rating to a float, so that the ratings list will be numerical. This should help with calculations later."
   ]
  },
  {
   "cell_type": "code",
   "execution_count": 8,
   "metadata": {},
   "outputs": [],
   "source": [
    "for tag in rating_tags[1:]:\n",
    "    ratings.append(float(tag.get_text()))"
   ]
  },
  {
   "cell_type": "markdown",
   "metadata": {},
   "source": [
    "8. Using Matplotlib, create a histogram of the ratings values:\n",
    "\n",
    "    ```py\n",
    "    plt.hist(ratings)\n",
    "    ```\n",
    "\n",
    "    Remember to show the plot using `plt.show()`!"
   ]
  },
  {
   "cell_type": "code",
   "execution_count": 9,
   "metadata": {},
   "outputs": [
    {
     "data": {
      "image/png": "[encoded data removed]",
      "text/plain": [
       "<Figure size 432x288 with 1 Axes>"
      ]
     },
     "metadata": {
      "needs_background": "light"
     },
     "output_type": "display_data"
    }
   ],
   "source": [
    "plt.hist(ratings)\n",
    "plt.show()"
   ]
  },
  {
   "cell_type": "markdown",
   "metadata": {},
   "source": [
    "## Which chocolatier makes the best chocolate?"
   ]
  },
  {
   "cell_type": "markdown",
   "metadata": {},
   "source": [
    "9. We want to now find the 10 most highly rated chocolatiers. One way to do this is to make a DataFrame that has the chocolate companies in one column, and the ratings in another. Then, we can do a `groupby` to find the ones with the highest average rating.\n",
    "\n",
    "   First, let's find all tags on the webpage that contain the company names."
   ]
  },
  {
   "cell_type": "code",
   "execution_count": 10,
   "metadata": {},
   "outputs": [],
   "source": [
    "choc_cos = soup.find_all(attrs={\"class\": \"Company\"})"
   ]
  },
  {
   "cell_type": "markdown",
   "metadata": {},
   "source": [
    "10. Just like we did with ratings, we now want to make an empty list to hold company names."
   ]
  },
  {
   "cell_type": "code",
   "execution_count": 11,
   "metadata": {},
   "outputs": [],
   "source": [
    "company_names = []"
   ]
  },
  {
   "cell_type": "markdown",
   "metadata": {},
   "source": [
    "11. Loop through the tags containing the company names, and add the text from each tag to the list you just created."
   ]
  },
  {
   "cell_type": "code",
   "execution_count": 12,
   "metadata": {},
   "outputs": [],
   "source": [
    "for tag in choc_cos[1:]:\n",
    "    company_names.append(tag.get_text())"
   ]
  },
  {
   "cell_type": "markdown",
   "metadata": {},
   "source": [
    "12. Create a DataFrame with a column \"Company\" corresponding to your companies list, and a column \"Ratings\" corresponding to your ratings list."
   ]
  },
  {
   "cell_type": "code",
   "execution_count": 14,
   "metadata": {},
   "outputs": [],
   "source": [
    "df = {\"Chocolate Company\": company_names, \"Ratings\": ratings}\n",
    "co_rate_df = pd.DataFrame.from_dict(df)"
   ]
  },
  {
   "cell_type": "markdown",
   "metadata": {},
   "source": [
    "13. Use `.grouby` to group your DataFrame by Company and take the average of the grouped ratings.\n",
    "\n",
    "    Then, use the `.nlargest` command to get the 10 highest rated chocolate companies. Print them out.\n",
    "    \n",
    "    Look at the hint if you get stuck on this step!"
   ]
  },
  {
   "cell_type": "code",
   "execution_count": 15,
   "metadata": {},
   "outputs": [
    {
     "name": "stdout",
     "output_type": "stream",
     "text": [
      "Chocolate Company\n",
      "Tobago Estate (Pralus)                  4.000000\n",
      "Heirloom Cacao Preservation (Zokoko)    3.875000\n",
      "Ocelot                                  3.875000\n",
      "Amedei                                  3.846154\n",
      "Matale                                  3.812500\n",
      "Patric                                  3.791667\n",
      "Idilio (Felchlin)                       3.775000\n",
      "Acalli                                  3.750000\n",
      "Chocola'te                              3.750000\n",
      "Christopher Morel (Felchlin)            3.750000\n",
      "Name: Ratings, dtype: float64\n"
     ]
    }
   ],
   "source": [
    "mean_ratings = co_rate_df.groupby(\"Chocolate Company\").Ratings.mean()\n",
    "ten_best = mean_ratings.nlargest(10)\n",
    "print(ten_best)"
   ]
  },
  {
   "cell_type": "markdown",
   "metadata": {},
   "source": [
    "## Is more cacao better?"
   ]
  },
  {
   "cell_type": "markdown",
   "metadata": {},
   "source": [
    "14. We want to see if the chocolate experts tend to rate chocolate bars with higher levels of cacoa to be better than those with lower levels of cacoa.\n",
    "\n",
    "    It looks like the cocoa percentages are in the table under the Cocoa Percent column (note we are looking at cocoa not cocao!)\n",
    "    \n",
    "    Using the same methods you used in the last couple of tasks, create a list that contains all of the cocoa percentages. Store each percent as a float, after stripping off the `%` character."
   ]
  },
  {
   "cell_type": "code",
   "execution_count": 16,
   "metadata": {},
   "outputs": [],
   "source": [
    "cocoa_percent_tags = soup.find_all(attrs={\"class\": \"CocoaPercent\"})\n",
    "cocoa_percent = []\n",
    "for tag in cocoa_percent_tags[1:]:\n",
    "    cocoa_percent.append(float(tag.get_text().strip('%')))"
   ]
  },
  {
   "cell_type": "markdown",
   "metadata": {},
   "source": [
    "15. Add the cocoa percentages as a column called `\"CocoaPercentage\"` in the DataFrame that has companies and ratings in it."
   ]
  },
  {
   "cell_type": "code",
   "execution_count": 17,
   "metadata": {},
   "outputs": [],
   "source": [
    "df[\"CocoaPercentage\"] = cocoa_percent\n",
    "co_rate_cocoa_df = pd.DataFrame.from_dict(df)"
   ]
  },
  {
   "cell_type": "markdown",
   "metadata": {},
   "source": [
    "16. Make a scatterplot of ratings (`your_df.Rating`)(y-axis) vs percentage of cocoa (`your_df.CocoaPercentage`)(x-axis).\n",
    "\n",
    "    You can do this in Matplotlib with these commands:\n",
    "    \n",
    "    ```py\n",
    "    plt.scatter(df.CocoaPercentage, df.Rating)\n",
    "    plt.show()\n",
    "    ```"
   ]
  },
  {
   "cell_type": "code",
   "execution_count": 22,
   "metadata": {},
   "outputs": [
    {
     "data": {
      "image/png": "[encoded data removed]",
      "text/plain": [
       "<Figure size 432x288 with 1 Axes>"
      ]
     },
     "metadata": {
      "needs_background": "light"
     },
     "output_type": "display_data"
    }
   ],
   "source": [
    "plt.scatter(co_rate_cocoa_df.CocoaPercentage, co_rate_cocoa_df.Ratings)\n",
    "plt.show()"
   ]
  },
  {
   "cell_type": "markdown",
   "metadata": {},
   "source": [
    "17. Is there any correlation here? We can use some numpy commands to draw a line of best-fit over the scatterplot.\n",
    "\n",
    "    Copy this code and paste it after you create the scatterplot, but before you call `.show()`:\n",
    "    \n",
    "```py\n",
    "z = np.polyfit(df.CocoaPercentage, df.Rating, 1)\n",
    "line_function = np.poly1d(z)\n",
    "plt.plot(df.CocoaPercentage, line_function(df.CocoaPercentage), \"r-\")\n",
    "```"
   ]
  },
  {
   "cell_type": "code",
   "execution_count": 23,
   "metadata": {},
   "outputs": [
    {
     "data": {
      "image/png": "[encoded data removed]",
      "text/plain": [
       "<Figure size 432x288 with 1 Axes>"
      ]
     },
     "metadata": {
      "needs_background": "light"
     },
     "output_type": "display_data"
    }
   ],
   "source": [
    "plt.scatter(co_rate_cocoa_df.CocoaPercentage, co_rate_cocoa_df.Ratings)\n",
    "z = np.polyfit(co_rate_cocoa_df.CocoaPercentage, co_rate_cocoa_df.Ratings, 1)\n",
    "line_function = np.poly1d(z)\n",
    "plt.plot(co_rate_cocoa_df.CocoaPercentage, line_function(co_rate_cocoa_df.CocoaPercentage), \"r--\")\n",
    "plt.show()"
   ]
  },
  {
   "cell_type": "markdown",
   "metadata": {},
   "source": [
    "## Explore!"
   ]
  },
  {
   "cell_type": "markdown",
   "metadata": {},
   "source": [
    "18. We have explored a couple of the questions about chocolate that inspired us when we looked at this chocolate table.\n",
    "\n",
    "    What other kinds of questions can you answer here? Try to use a combination of BeautifulSoup and Pandas to explore some more.\n",
    "    \n",
    "    For inspiration: Where are the best cocoa beans grown? Which countries produce the highest-rated bars?"
   ]
  },
  {
   "cell_type": "markdown",
   "metadata": {},
   "source": [
    "## Which city/province grows the best beans?"
   ]
  },
  {
   "cell_type": "code",
   "execution_count": 31,
   "metadata": {},
   "outputs": [
    {
     "name": "stdout",
     "output_type": "stream",
     "text": [
      "Name of bar/Area of Origin\n",
      "Toscano Black                                  4.166667\n",
      "ABOCFA Coop                                    4.000000\n",
      "Alto Beni, Cru Savage                          4.000000\n",
      "Asante                                         4.000000\n",
      "Bali, Sukrama Bros. Farm, Melaya, 62hr C       4.000000\n",
      "Bellavista Coop, #225, LR, MC, CG Exclusive    4.000000\n",
      "Cabosse                                        4.000000\n",
      "Carenero Superior, Urrutia, Barlovento         4.000000\n",
      "Chuao, #217, DR, MC                            4.000000\n",
      "Claudio Corallo w/ nibs                        4.000000\n",
      "Name: Ratings, dtype: float64\n"
     ]
    }
   ],
   "source": [
    "# where are the best cocoa beans grown?\n",
    "city_bean = soup.find_all(attrs={\"class\": \"Origin\"})\n",
    "\n",
    "bean_origin = []\n",
    "\n",
    "for tag in city_bean[1:]:\n",
    "    bean_origin.append(tag.get_text())\n",
    "    \n",
    "df = {\"Name of bar/Area of Origin\": bean_origin, \"Ratings\": ratings}\n",
    "bean_df = pd.DataFrame.from_dict(df)    \n",
    "\n",
    "mean_ratings = bean_df.groupby(\"Name of bar/Area of Origin\").Ratings.mean()\n",
    "ten_best = mean_ratings.nlargest(10)\n",
    "print(ten_best)"
   ]
  },
  {
   "cell_type": "markdown",
   "metadata": {},
   "source": [
    "## Which countries produce the highest-rated bars?"
   ]
  },
  {
   "cell_type": "code",
   "execution_count": 32,
   "metadata": {
    "scrolled": true
   },
   "outputs": [
    {
     "name": "stdout",
     "output_type": "stream",
     "text": [
      "Country of Origin\n",
      "Dom. Rep., Madagascar           4.00\n",
      "Gre., PNG, Haw., Haiti, Mad     4.00\n",
      "Guat., D.R., Peru, Mad., PNG    4.00\n",
      "Peru, Dom. Rep                  4.00\n",
      "Ven, Bolivia, D.R.              4.00\n",
      "Venezuela, Java                 4.00\n",
      "DR, Ecuador, Peru               3.75\n",
      "Dominican Rep., Bali            3.75\n",
      "PNG, Vanuatu, Mad               3.75\n",
      "Peru, Belize                    3.75\n",
      "Name: Ratings, dtype: float64\n"
     ]
    }
   ],
   "source": [
    "# which countries produce the highest-rated bars?\n",
    "country_bean = soup.find_all(attrs={\"class\": \"BroadBeanOrigin\"})\n",
    "\n",
    "bean_origin = []\n",
    "\n",
    "for tag in country_bean[1:]:\n",
    "    bean_origin.append(tag.get_text())\n",
    "    \n",
    "df = {\"Country of Origin\": bean_origin, \"Ratings\": ratings}\n",
    "bean_df = pd.DataFrame.from_dict(df)    \n",
    "\n",
    "mean_ratings = bean_df.groupby(\"Country of Origin\").Ratings.mean()\n",
    "ten_best = mean_ratings.nlargest(10)\n",
    "print(ten_best)"
   ]
  },
  {
   "cell_type": "markdown",
   "metadata": {},
   "source": [
    "## Which bean produces the highest-rated bars?"
   ]
  },
  {
   "cell_type": "code",
   "execution_count": 33,
   "metadata": {},
   "outputs": [
    {
     "name": "stdout",
     "output_type": "stream",
     "text": [
      "Bean Type\n",
      "                            4.000\n",
      "Criollo (Ocumare 67)        4.000\n",
      "Criollo (Wild)              4.000\n",
      "Trinitario (85% Criollo)    3.875\n",
      "Amazon mix                  3.750\n",
      "Blend-Forastero,Criollo     3.750\n",
      "Criollo (Ocumare 77)        3.750\n",
      "Forastero (Amelonado)       3.750\n",
      "Trinitario, Nacional        3.750\n",
      "Trinitario, TCGA            3.750\n",
      "Name: Ratings, dtype: float64\n"
     ]
    }
   ],
   "source": [
    "bean_species = soup.find_all(attrs={\"class\": \"BeanType\"})\n",
    "\n",
    "bean_type = []\n",
    "\n",
    "for tag in bean_species[1:]:\n",
    "    bean_type.append(tag.get_text())\n",
    "    \n",
    "df = {\"Bean Type\": bean_type, \"Ratings\": ratings}\n",
    "bean_df = pd.DataFrame.from_dict(df)    \n",
    "\n",
    "mean_ratings = bean_df.groupby(\"Bean Type\").Ratings.mean()\n",
    "ten_best = mean_ratings.nlargest(10)\n",
    "print(ten_best)\n",
    "\n",
    "# how to get rid of null values in <td> tags??"
   ]
  }
 ],
 "metadata": {
  "kernelspec": {
   "display_name": "Python 3 (ipykernel)",
   "language": "python",
   "name": "python3"
  },
  "language_info": {
   "codemirror_mode": {
    "name": "ipython",
    "version": 3
   },
   "file_extension": ".py",
   "mimetype": "text/x-python",
   "name": "python",
   "nbconvert_exporter": "python",
   "pygments_lexer": "ipython3",
   "version": "3.9.7"
  }
 },
 "nbformat": 4,
 "nbformat_minor": 2
}
